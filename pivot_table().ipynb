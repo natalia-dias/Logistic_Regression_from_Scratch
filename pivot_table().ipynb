{
 "cells": [
  {
   "cell_type": "code",
   "execution_count": 1,
   "id": "f85c1b5c",
   "metadata": {},
   "outputs": [],
   "source": [
    "import pandas as pd"
   ]
  },
  {
   "cell_type": "code",
   "execution_count": 2,
   "id": "3065d7b7",
   "metadata": {},
   "outputs": [],
   "source": [
    "df_rock = pd.read_csv('/Users/ndias/PycharmProjects/Logistic Regression from Scratch/Topics/Reshaping and Pivot Tables/Mean/data/dataset/input.txt')"
   ]
  },
  {
   "cell_type": "code",
   "execution_count": 3,
   "id": "e555d8c2",
   "metadata": {},
   "outputs": [
    {
     "data": {
      "text/html": [
       "<div>\n",
       "<style scoped>\n",
       "    .dataframe tbody tr th:only-of-type {\n",
       "        vertical-align: middle;\n",
       "    }\n",
       "\n",
       "    .dataframe tbody tr th {\n",
       "        vertical-align: top;\n",
       "    }\n",
       "\n",
       "    .dataframe thead th {\n",
       "        text-align: right;\n",
       "    }\n",
       "</style>\n",
       "<table border=\"1\" class=\"dataframe\">\n",
       "  <thead>\n",
       "    <tr style=\"text-align: right;\">\n",
       "      <th></th>\n",
       "      <th>Unnamed: 0</th>\n",
       "      <th>null_deg</th>\n",
       "      <th>60_deg</th>\n",
       "      <th>90_deg</th>\n",
       "      <th>180_deg</th>\n",
       "      <th>240_deg</th>\n",
       "      <th>labels</th>\n",
       "    </tr>\n",
       "  </thead>\n",
       "  <tbody>\n",
       "    <tr>\n",
       "      <th>0</th>\n",
       "      <td>0</td>\n",
       "      <td>0.314574</td>\n",
       "      <td>0.120068</td>\n",
       "      <td>0.349603</td>\n",
       "      <td>0.332738</td>\n",
       "      <td>0.086790</td>\n",
       "      <td>R</td>\n",
       "    </tr>\n",
       "    <tr>\n",
       "      <th>1</th>\n",
       "      <td>1</td>\n",
       "      <td>0.354922</td>\n",
       "      <td>0.281389</td>\n",
       "      <td>0.086031</td>\n",
       "      <td>0.525604</td>\n",
       "      <td>0.528554</td>\n",
       "      <td>R</td>\n",
       "    </tr>\n",
       "    <tr>\n",
       "      <th>2</th>\n",
       "      <td>2</td>\n",
       "      <td>0.324999</td>\n",
       "      <td>0.289637</td>\n",
       "      <td>0.316176</td>\n",
       "      <td>0.307918</td>\n",
       "      <td>0.063253</td>\n",
       "      <td>R</td>\n",
       "    </tr>\n",
       "    <tr>\n",
       "      <th>3</th>\n",
       "      <td>3</td>\n",
       "      <td>0.715835</td>\n",
       "      <td>0.426479</td>\n",
       "      <td>0.791659</td>\n",
       "      <td>0.733441</td>\n",
       "      <td>0.697504</td>\n",
       "      <td>M</td>\n",
       "    </tr>\n",
       "    <tr>\n",
       "      <th>4</th>\n",
       "      <td>4</td>\n",
       "      <td>0.612430</td>\n",
       "      <td>0.737511</td>\n",
       "      <td>0.922184</td>\n",
       "      <td>0.663419</td>\n",
       "      <td>0.721550</td>\n",
       "      <td>M</td>\n",
       "    </tr>\n",
       "  </tbody>\n",
       "</table>\n",
       "</div>"
      ],
      "text/plain": [
       "   Unnamed: 0  null_deg    60_deg    90_deg   180_deg   240_deg labels\n",
       "0           0  0.314574  0.120068  0.349603  0.332738  0.086790      R\n",
       "1           1  0.354922  0.281389  0.086031  0.525604  0.528554      R\n",
       "2           2  0.324999  0.289637  0.316176  0.307918  0.063253      R\n",
       "3           3  0.715835  0.426479  0.791659  0.733441  0.697504      M\n",
       "4           4  0.612430  0.737511  0.922184  0.663419  0.721550      M"
      ]
     },
     "execution_count": 3,
     "metadata": {},
     "output_type": "execute_result"
    }
   ],
   "source": [
    "df_rock.head()"
   ]
  },
  {
   "cell_type": "code",
   "execution_count": 40,
   "id": "b6cf5eb9",
   "metadata": {},
   "outputs": [],
   "source": [
    "pivot1 = pd.pivot_table(df_rock, index='labels', values='null_deg', aggfunc='mean')"
   ]
  },
  {
   "cell_type": "code",
   "execution_count": 41,
   "id": "417b21e0",
   "metadata": {},
   "outputs": [
    {
     "data": {
      "text/html": [
       "<div>\n",
       "<style scoped>\n",
       "    .dataframe tbody tr th:only-of-type {\n",
       "        vertical-align: middle;\n",
       "    }\n",
       "\n",
       "    .dataframe tbody tr th {\n",
       "        vertical-align: top;\n",
       "    }\n",
       "\n",
       "    .dataframe thead th {\n",
       "        text-align: right;\n",
       "    }\n",
       "</style>\n",
       "<table border=\"1\" class=\"dataframe\">\n",
       "  <thead>\n",
       "    <tr style=\"text-align: right;\">\n",
       "      <th></th>\n",
       "      <th>null_deg</th>\n",
       "    </tr>\n",
       "    <tr>\n",
       "      <th>labels</th>\n",
       "      <th></th>\n",
       "    </tr>\n",
       "  </thead>\n",
       "  <tbody>\n",
       "    <tr>\n",
       "      <th>M</th>\n",
       "      <td>0.725274</td>\n",
       "    </tr>\n",
       "    <tr>\n",
       "      <th>R</th>\n",
       "      <td>0.269734</td>\n",
       "    </tr>\n",
       "  </tbody>\n",
       "</table>\n",
       "</div>"
      ],
      "text/plain": [
       "        null_deg\n",
       "labels          \n",
       "M       0.725274\n",
       "R       0.269734"
      ]
     },
     "execution_count": 41,
     "metadata": {},
     "output_type": "execute_result"
    }
   ],
   "source": [
    "pivot1"
   ]
  },
  {
   "cell_type": "code",
   "execution_count": 42,
   "id": "b6fb5ff9",
   "metadata": {},
   "outputs": [
    {
     "name": "stdout",
     "output_type": "stream",
     "text": [
      "        null_deg\n",
      "labels          \n",
      "R       0.269734\n"
     ]
    }
   ],
   "source": [
    "print(pivot1.iloc[1:, :])"
   ]
  },
  {
   "cell_type": "code",
   "execution_count": 44,
   "id": "9d3b94a7",
   "metadata": {},
   "outputs": [],
   "source": [
    "table = df_rock.pivot_table(index='labels', values='null_deg').round(2)"
   ]
  },
  {
   "cell_type": "code",
   "execution_count": 45,
   "id": "d3415011",
   "metadata": {},
   "outputs": [
    {
     "name": "stdout",
     "output_type": "stream",
     "text": [
      "        null_deg\n",
      "labels          \n",
      "M           0.73\n",
      "R           0.27\n"
     ]
    }
   ],
   "source": [
    "print(table)"
   ]
  },
  {
   "cell_type": "code",
   "execution_count": null,
   "id": "58167c22",
   "metadata": {},
   "outputs": [],
   "source": []
  }
 ],
 "metadata": {
  "kernelspec": {
   "display_name": "Python 3 (ipykernel)",
   "language": "python",
   "name": "python3"
  },
  "language_info": {
   "codemirror_mode": {
    "name": "ipython",
    "version": 3
   },
   "file_extension": ".py",
   "mimetype": "text/x-python",
   "name": "python",
   "nbconvert_exporter": "python",
   "pygments_lexer": "ipython3",
   "version": "3.9.12"
  }
 },
 "nbformat": 4,
 "nbformat_minor": 5
}
